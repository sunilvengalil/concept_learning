{
 "cells": [
  {
   "cell_type": "markdown",
   "metadata": {
    "colab_type": "text",
    "id": "view-in-github"
   },
   "source": [
    "<a href=\"https://colab.research.google.com/github/sunilvengalil/concept_learning/blob/master/notebooks/classify.ipynb\" target=\"_parent\"><img src=\"https://colab.research.google.com/assets/colab-badge.svg\" alt=\"Open In Colab\"/></a>"
   ]
  },
  {
   "cell_type": "code",
   "execution_count": 1,
   "metadata": {
    "colab": {
     "base_uri": "https://localhost:8080/"
    },
    "id": "m4SFybU3IxsF",
    "outputId": "12292fb9-d135-4876-ab9d-9ebc5bf23c9d"
   },
   "outputs": [
    {
     "name": "stdout",
     "output_type": "stream",
     "text": [
      "`%tensorflow_version` only switches the major version: 1.x or 2.x.\n",
      "You set: `1.40.0`. This will be interpreted as: `1.x`.\n",
      "\n",
      "\n",
      "TensorFlow 1.x selected.\n"
     ]
    }
   ],
   "source": [
    "%tensorflow_version 1.40.0"
   ]
  },
  {
   "cell_type": "code",
   "execution_count": 2,
   "metadata": {
    "id": "lInsatcqI7o5"
   },
   "outputs": [],
   "source": [
    "from google.colab import drive"
   ]
  },
  {
   "cell_type": "code",
   "execution_count": 3,
   "metadata": {
    "colab": {
     "base_uri": "https://localhost:8080/"
    },
    "id": "KpfJxIs_JA9L",
    "outputId": "2803fdcc-2bb0-4ffd-843e-88b45bbb6797"
   },
   "outputs": [
    {
     "name": "stdout",
     "output_type": "stream",
     "text": [
      "Mounted at /content/gdrive/\n"
     ]
    }
   ],
   "source": [
    "drive.mount(\"/content/gdrive/\")"
   ]
  },
  {
   "cell_type": "code",
   "execution_count": 41,
   "metadata": {
    "id": "-KFWI7JjJNO_"
   },
   "outputs": [],
   "source": [
    "!mv \"/content/gdrive/MyDrive/concept_learning/concept_learning/concept_learning_exp/semi_supervised_experiments/semi_supervised_classification.zip (Unzipped Files)/semi_supervised_classification\" /content/gdrive/MyDrive/concept_learning/concept_learning/concept_learning_exp/"
   ]
  },
  {
   "cell_type": "code",
   "execution_count": 42,
   "metadata": {
    "colab": {
     "base_uri": "https://localhost:8080/"
    },
    "id": "g7sAsfkBJoxb",
    "outputId": "0057073a-0c1b-4481-e225-8154ada657b0"
   },
   "outputs": [
    {
     "name": "stdout",
     "output_type": "stream",
     "text": [
      "datasets      semi_supervised_classification\t       semi_sup_gaussian_mah_k5\n",
      "Experiment_3  semi_supervised_classification_gaussian  semi_sup_gaussian_mah_k8\n",
      "Experiment_5  semi_supervised_experiments\n",
      "Experiment_7  semi_sup_gaussian_mah_k10\n"
     ]
    }
   ],
   "source": [
    "!ls /content/gdrive/MyDrive/concept_learning/concept_learning/concept_learning_exp/"
   ]
  },
  {
   "cell_type": "code",
   "execution_count": 6,
   "metadata": {
    "colab": {
     "base_uri": "https://localhost:8080/"
    },
    "id": "Osx2jBvuJqK_",
    "outputId": "d2f9ff76-0b50-4d7a-e25b-cf48c834fa6e"
   },
   "outputs": [
    {
     "name": "stdout",
     "output_type": "stream",
     "text": [
      "/content/gdrive/MyDrive/concept_learning/concept_learning/concept_learning_exp/semi_supervised_experiments\n"
     ]
    }
   ],
   "source": [
    "cd semi_supervised_experiments/"
   ]
  },
  {
   "cell_type": "code",
   "execution_count": 7,
   "metadata": {
    "colab": {
     "base_uri": "https://localhost:8080/"
    },
    "id": "U1lgTJI6JtI6",
    "outputId": "d92f6835-3ccc-4547-8c7b-0097ebd0e16f"
   },
   "outputs": [
    {
     "name": "stdout",
     "output_type": "stream",
     "text": [
      " semi_supervised_classification_gaussian.zip\n",
      " semi_supervised_classification_only_correct_label.zip\n",
      " semi_supervised_classification_published.zip\n",
      " semi_supervised_classification.zip\n",
      " semi_supervised_random.zip\n",
      " semi_sup_gaussian_mah_k10.zip\n",
      "'semi_sup_gaussian_mah_k10.zip (Unzipped Files)'\n",
      " semi_sup_gaussian_mah_k5.zip\n",
      " semi_sup_gaussian_mah_k8.zip\n",
      " semi_sup_gaussian_mah.zip\n"
     ]
    }
   ],
   "source": [
    "!ls"
   ]
  },
  {
   "cell_type": "code",
   "execution_count": 4,
   "metadata": {
    "colab": {
     "base_uri": "https://localhost:8080/"
    },
    "id": "5iOPO7tcJubG",
    "outputId": "cce73b2a-3bdc-4718-9de2-e66f2df8f1a8"
   },
   "outputs": [
    {
     "name": "stdout",
     "output_type": "stream",
     "text": [
      "/content/gdrive/MyDrive/concept_learning/concept_learning\n"
     ]
    }
   ],
   "source": [
    "%cd /content/gdrive/MyDrive/concept_learning/concept_learning"
   ]
  },
  {
   "cell_type": "code",
   "execution_count": 12,
   "metadata": {
    "colab": {
     "base_uri": "https://localhost:8080/"
    },
    "id": "ECOJVwDmKYuI",
    "outputId": "08c207c5-fd60-4952-bab4-58469adde5be"
   },
   "outputs": [
    {
     "name": "stdout",
     "output_type": "stream",
     "text": [
      "Checking out files: 100% (9/9), done.\n",
      "M\tapp/backend/app/alembic.ini\n",
      "M\tapp/backend/app/alembic/README\n",
      "M\tapp/backend/app/alembic/env.py\n",
      "M\tapp/backend/app/alembic/script.py.mako\n",
      "M\tapp/backend/app/alembic/versions/.keep\n",
      "M\tapp/backend/app/app/models/item.py\n",
      "M\tapp/backend/app/app/models/user.py\n",
      "M\tapp/backend/app/app/tests/.gitignore\n",
      "M\tapp/backend/app/scripts/format-imports.sh\n",
      "M\tapp/backend/app/scripts/format.sh\n",
      "M\tapp/backend/app/scripts/init_db.sh\n",
      "M\tapp/backend/app/scripts/reset_db.sh\n",
      "M\tapp/backend/app/scripts/test-cov-html.sh\n",
      "M\tapp/backend/app/scripts/test.sh\n",
      "M\tapp/frontend/.dockerignore\n",
      "Previous HEAD position was 30e406f Created using Colaboratory\n",
      "Switched to branch 'master'\n",
      "Your branch is up to date with 'origin/master'.\n"
     ]
    }
   ],
   "source": [
    "!git checkout .\n",
    "!git checkout master"
   ]
  },
  {
   "cell_type": "code",
   "execution_count": 17,
   "metadata": {
    "colab": {
     "base_uri": "https://localhost:8080/"
    },
    "id": "mRAHVkZLN7O7",
    "outputId": "27c95250-f614-497a-f2bf-c0e30f937147"
   },
   "outputs": [
    {
     "name": "stdout",
     "output_type": "stream",
     "text": [
      "remote: Enumerating objects: 50, done.\u001b[K\n",
      "remote: Counting objects: 100% (50/50), done.\u001b[K\n",
      "remote: Total 171 (delta 50), reused 50 (delta 50), pack-reused 121\u001b[K\n",
      "Receiving objects: 100% (171/171), 31.08 MiB | 8.59 MiB/s, done.\n",
      "Resolving deltas: 100% (120/120), completed with 25 local objects.\n",
      "From https://github.com/sunilvengalil/concept_learning\n",
      "   a4890b8..fd948e7  master     -> origin/master\n",
      "Updating a4890b8..fd948e7\n",
      "Checking out files: 100% (52/52), done.\n",
      "Fast-forward\n",
      " cifar_10_experiments/experiment_7.ipynb            |  6177 \u001b[32m+++++++\u001b[m\n",
      " clearn/analysis/annotate_multiple.py               |    14 \u001b[32m+\u001b[m\u001b[31m-\u001b[m\n",
      " clearn/analysis/cluster_utils.py                   |   229 \u001b[32m+\u001b[m\u001b[31m-\u001b[m\n",
      " clearn/config/__init__.py                          |     4 \u001b[32m+\u001b[m\n",
      " clearn/dao/cifar_10.py                             |    29 \u001b[32m+\u001b[m\u001b[31m-\u001b[m\n",
      " clearn/dao/dao_factory.py                          |     4 \u001b[32m+\u001b[m\u001b[31m-\u001b[m\n",
      " clearn/experiments/experiment.py                   |    90 \u001b[32m+\u001b[m\u001b[31m-\u001b[m\n",
      " clearn/models/classify/cifar_10_classifier.py      |    14 \u001b[32m+\u001b[m\u001b[31m-\u001b[m\n",
      " clearn/models/classify/cifar_10_vae.py             |     2 \u001b[32m+\u001b[m\u001b[31m-\u001b[m\n",
      " clearn/models/classify/semi_supervised.py          |    93 \u001b[32m+\u001b[m\u001b[31m-\u001b[m\n",
      " clearn/models/classify/semi_supervised_mnist.py    |   420 \u001b[32m+\u001b[m\n",
      " clearn/models/model.py                             |     8 \u001b[32m+\u001b[m\u001b[31m-\u001b[m\n",
      " clearn/models/vae.py                               |     9 \u001b[32m+\u001b[m\u001b[31m-\u001b[m\n",
      " clearn/utils/data_loader.py                        |    21 \u001b[32m+\u001b[m\u001b[31m-\u001b[m\n",
      " docs/concept_learning_detailed_report_v2.tex       |   125 \u001b[32m+\u001b[m\u001b[31m-\u001b[m\n",
      " docs/uai2021/COMPILATION_ISSUES_README.md          |     6 \u001b[32m+\u001b[m\n",
      " docs/uai2021/classification_accuracy.pdf           |   Bin \u001b[31m0\u001b[m -> \u001b[32m11266\u001b[m bytes\n",
      " docs/uai2021/cluster_centers_epoch_1.0.png         |   Bin \u001b[31m0\u001b[m -> \u001b[32m17326\u001b[m bytes\n",
      " docs/uai2021/reconstruction_accuracy.pdf           |   Bin \u001b[31m0\u001b[m -> \u001b[32m12842\u001b[m bytes\n",
      " ...accuracy_compare_supervised_vs_unsuprevised.jpg |   Bin \u001b[31m0\u001b[m -> \u001b[32m105849\u001b[m bytes\n",
      " .../reconstruction_accuracy_different_runs.pdf     |   Bin \u001b[31m0\u001b[m -> \u001b[32m16721\u001b[m bytes\n",
      " docs/uai2021/semi_supervised_learning.bib          |    98 \u001b[32m+\u001b[m\n",
      " docs/uai2021/semi_supervised_learning.pdf          |   Bin \u001b[31m0\u001b[m -> \u001b[32m1577425\u001b[m bytes\n",
      " docs/uai2021/semi_supervised_learning.tex          |   405 \u001b[32m+\u001b[m\n",
      " .../semi_supervised_learning_for_review.pdf        |   Bin \u001b[31m0\u001b[m -> \u001b[32m308762\u001b[m bytes\n",
      " .../semi_supervised_learning_for_review.tex        |   368 \u001b[32m+\u001b[m\n",
      " docs/uai2021/supervised_im_1.png                   |   Bin \u001b[31m0\u001b[m -> \u001b[32m17617\u001b[m bytes\n",
      " docs/uai2021/toronto.png                           |   Bin \u001b[31m0\u001b[m -> \u001b[32m1030526\u001b[m bytes\n",
      " docs/uai2021/uai2021.cls                           |   245 \u001b[32m+\u001b[m\n",
      " docs/uai2021/unsupervised_im_1.png                 |   Bin \u001b[31m0\u001b[m -> \u001b[32m17406\u001b[m bytes\n",
      " .../vae_model_architecture_classification.jpg      |   Bin \u001b[31m0\u001b[m -> \u001b[32m137154\u001b[m bytes\n",
      " .../un_supervised_classification_net.py            |     6 \u001b[32m+\u001b[m\u001b[31m-\u001b[m\n",
      " notebooks/analyze_manual_annotation.ipynb          |  1291 \u001b[32m++\u001b[m\n",
      " notebooks/classify.ipynb                           |  1311 \u001b[32m++\u001b[m\n",
      " .../label_cluster_center_iterative-Copy1.ipynb     |  1493 \u001b[32m++\u001b[m\n",
      " notebooks/label_cluster_center_iterative.ipynb     | 16973 \u001b[32m+++++++++++++++++++\u001b[m\n",
      " .../label_cluster_center_iterative_run_30.ipynb    |  3482 \u001b[32m++++\u001b[m\n",
      " .../label_cluster_center_iterative_v2-Copy1.ipynb  | 12519 \u001b[32m++++++++++++++\u001b[m\n",
      " notebooks/label_cluster_center_iterative_v2.ipynb  | 16096 \u001b[32m++++++++++++++++++\u001b[m\n",
      " .../label_cluster_center_iterative_v2_43.ipynb     | 16049 \u001b[32m++++++++++++++++++\u001b[m\n",
      " .../label_cluster_center_iterative_v2_44.ipynb     | 16119 \u001b[32m++++++++++++++++++\u001b[m\n",
      " .../label_cluster_center_iterative_v2_44_mah.ipynb | 16163 \u001b[32m++++++++++++++++++\u001b[m\n",
      " ...bel_cluster_center_iterative_v2_44_mah_k5.ipynb | 16226 \u001b[32m++++++++++++++++++\u001b[m\n",
      " ...el_cluster_center_iterative_v2_44_mah_k_1.ipynb | 16163 \u001b[32m++++++++++++++++++\u001b[m\n",
      " ...l_cluster_center_iterative_v2_44_mah_k_10.ipynb | 16259 \u001b[32m++++++++++++++++++\u001b[m\n",
      " ...el_cluster_center_iterative_v2_44_mah_k_8.ipynb | 10478 \u001b[32m++++++++++++\u001b[m\n",
      " notebooks/label_cluster_center_v3-Copy1.ipynb      |  3612 \u001b[32m++++\u001b[m\n",
      " notebooks/label_cluster_center_v3.ipynb            |    16 \u001b[32m+\u001b[m\u001b[31m-\u001b[m\n",
      " tests/test_evaluate.ipynb                          |  5281 \u001b[32m++++++\u001b[m\n",
      " tests/test_model_apis.py                           |     6 \u001b[32m+\u001b[m\n",
      " tests/test_model_initialize_and_train.py           |    71 \u001b[32m+\u001b[m\n",
      " tests/test_model_train_and_evaluate.py             |    91 \u001b[32m+\u001b[m\n",
      " 52 files changed, 177846 insertions(+), 220 deletions(-)\n",
      " create mode 100644 cifar_10_experiments/experiment_7.ipynb\n",
      " create mode 100644 clearn/models/classify/semi_supervised_mnist.py\n",
      " create mode 100755 docs/uai2021/COMPILATION_ISSUES_README.md\n",
      " create mode 100644 docs/uai2021/classification_accuracy.pdf\n",
      " create mode 100644 docs/uai2021/cluster_centers_epoch_1.0.png\n",
      " create mode 100644 docs/uai2021/reconstruction_accuracy.pdf\n",
      " create mode 100644 docs/uai2021/reconstruction_accuracy_compare_supervised_vs_unsuprevised.jpg\n",
      " create mode 100644 docs/uai2021/reconstruction_accuracy_different_runs.pdf\n",
      " create mode 100644 docs/uai2021/semi_supervised_learning.bib\n",
      " create mode 100644 docs/uai2021/semi_supervised_learning.pdf\n",
      " create mode 100644 docs/uai2021/semi_supervised_learning.tex\n",
      " create mode 100644 docs/uai2021/semi_supervised_learning_for_review.pdf\n",
      " create mode 100644 docs/uai2021/semi_supervised_learning_for_review.tex\n",
      " create mode 100644 docs/uai2021/supervised_im_1.png\n",
      " create mode 100644 docs/uai2021/toronto.png\n",
      " create mode 100644 docs/uai2021/uai2021.cls\n",
      " create mode 100644 docs/uai2021/unsupervised_im_1.png\n",
      " create mode 100644 docs/uai2021/vae_model_architecture_classification.jpg\n",
      " create mode 100644 notebooks/analyze_manual_annotation.ipynb\n",
      " create mode 100644 notebooks/classify.ipynb\n",
      " create mode 100644 notebooks/label_cluster_center_iterative-Copy1.ipynb\n",
      " create mode 100644 notebooks/label_cluster_center_iterative.ipynb\n",
      " create mode 100644 notebooks/label_cluster_center_iterative_run_30.ipynb\n",
      " create mode 100644 notebooks/label_cluster_center_iterative_v2-Copy1.ipynb\n",
      " create mode 100644 notebooks/label_cluster_center_iterative_v2.ipynb\n",
      " create mode 100644 notebooks/label_cluster_center_iterative_v2_43.ipynb\n",
      " create mode 100644 notebooks/label_cluster_center_iterative_v2_44.ipynb\n",
      " create mode 100644 notebooks/label_cluster_center_iterative_v2_44_mah.ipynb\n",
      " create mode 100644 notebooks/label_cluster_center_iterative_v2_44_mah_k5.ipynb\n",
      " create mode 100644 notebooks/label_cluster_center_iterative_v2_44_mah_k_1.ipynb\n",
      " create mode 100644 notebooks/label_cluster_center_iterative_v2_44_mah_k_10.ipynb\n",
      " create mode 100644 notebooks/label_cluster_center_iterative_v2_44_mah_k_8.ipynb\n",
      " create mode 100644 notebooks/label_cluster_center_v3-Copy1.ipynb\n",
      " create mode 100644 tests/test_evaluate.ipynb\n",
      " create mode 100644 tests/test_model_initialize_and_train.py\n",
      " create mode 100644 tests/test_model_train_and_evaluate.py\n"
     ]
    }
   ],
   "source": [
    "!git pull"
   ]
  },
  {
   "cell_type": "code",
   "execution_count": 5,
   "metadata": {
    "colab": {
     "base_uri": "https://localhost:8080/"
    },
    "id": "mizlGkI3Lqjn",
    "outputId": "6a7d0240-d247-4b10-e91d-e4c0465a00f1"
   },
   "outputs": [
    {
     "name": "stdout",
     "output_type": "stream",
     "text": [
      "WARNING:tensorflow:From /content/gdrive/My Drive/concept_learning/concept_learning/clearn/models/classify/supervised_classifier.py:21: The name tf.Session is deprecated. Please use tf.compat.v1.Session instead.\n",
      "\n"
     ]
    },
    {
     "name": "stderr",
     "output_type": "stream",
     "text": [
      "/usr/local/lib/python3.7/dist-packages/sklearn/utils/deprecation.py:144: FutureWarning: The sklearn.metrics.classification module is  deprecated in version 0.22 and will be removed in version 0.24. The corresponding classes / functions should instead be imported from sklearn.metrics. Anything that cannot be imported from sklearn.metrics is now part of the private API.\n",
      "  warnings.warn(message, FutureWarning)\n"
     ]
    }
   ],
   "source": [
    "#import os\n",
    "from typing import List, DefaultDict\n",
    "from collections import defaultdict\n",
    "import pandas as pd\n",
    "import numpy as np\n",
    "from  scipy.signal import correlate2d\n",
    "from mpl_toolkits.axes_grid1 import make_axes_locatable\n",
    "from sklearn.cluster import KMeans\n",
    "#from yellowbrick.cluster import KElbowVisualizer\n",
    "from sklearn.metrics import accuracy_score\n",
    "\n",
    "# from numpy.linalg import norm\n",
    "# import matplotlib\n",
    "from matplotlib import pyplot as plt\n",
    "from clearn.experiments.experiment import Experiment, load_trained_model, get_model, get_train_val_iterator, MODEL_TYPE_VAE_SEMI_SUPERVISED_MNIST\n",
    "from clearn.dao.dao_factory import get_dao\n",
    "\n",
    "import tensorflow as tf\n",
    "from clearn.utils.data_loader import TrainValDataIterator, DataIterator\n",
    "from clearn.utils.data_loader import load_images\n",
    "#from clearn.utils.utils import get_latent_vector_column, show_all_variables, get_pmf_y_given_z\n",
    "from clearn.config.common_path import get_encoded_csv_file\n",
    "from clearn.models.classify.classifier import ClassifierModel\n",
    "from clearn.config import ExperimentConfig\n",
    "#from clearn.analysis.cluster_utils import plot_features, trace_dim\n",
    "from matplotlib import pyplot  as  plt\n",
    "from scipy.special import softmax\n",
    "\n",
    "%matplotlib inline"
   ]
  },
  {
   "cell_type": "code",
   "execution_count": 6,
   "metadata": {
    "id": "0FU27ouRPSIq"
   },
   "outputs": [],
   "source": [
    "root_path=\"/content/gdrive/MyDrive/concept_learning/concept_learning/concept_learning_exp\""
   ]
  },
  {
   "cell_type": "code",
   "execution_count": 7,
   "metadata": {
    "id": "CjyNLx-sSsYB"
   },
   "outputs": [],
   "source": [
    "def classify_images(model, images, batch_size, z_dim):\n",
    "    num_images = images.shape[0]\n",
    "    num_batches = num_images // batch_size\n",
    "    batch_num = 0\n",
    "    logits = np.zeros([len(images), z_dim])\n",
    "    print(logits.shape)\n",
    "    print(logits[batch_num * batch_size: (batch_num + 1) * batch_size].shape)\n",
    "    if num_batches >= 1:\n",
    "        # Run for first batch to get the dimensions\n",
    "        batch_num = 0\n",
    "        _logits = model.classify(images[batch_num * batch_size: (batch_num + 1) * batch_size])[0]\n",
    "        print(_logits.shape)\n",
    "        logits[batch_num * batch_size: (batch_num + 1) * batch_size] = _logits\n",
    " \n",
    "        for batch_num in range(1, num_batches):\n",
    "            _logits = model.classify(images[batch_num * batch_size: (batch_num + 1) * batch_size])[0]\n",
    "            logits[batch_num * batch_size: (batch_num + 1) * batch_size] = _logits\n",
    " \n",
    "    left_out = num_images % batch_size\n",
    "    if left_out > 0:\n",
    "        # TODO remove this hard-coding\n",
    "        feature_dimension = [batch_size, 28, 28, 1]\n",
    "        last_batch = np.zeros(feature_dimension)\n",
    "        last_batch[0:left_out] = images[num_batches * batch_size:]\n",
    "        _logits = model.classify(last_batch)[0]\n",
    "        logits[num_batches * batch_size:] = _logits[0:left_out]\n",
    "\n",
    "    return logits\n"
   ]
  },
  {
   "cell_type": "code",
   "execution_count": 8,
   "metadata": {
    "id": "Gf4S7X_yNbUM"
   },
   "outputs": [],
   "source": [
    "config_dict = dict()\n",
    "\n",
    "z_dim = 10\n",
    "run_id = 45\n",
    "num_units=[64, 128, 32]\n",
    "create_split = False\n",
    "num_cluster_config=ExperimentConfig.NUM_CLUSTERS_CONFIG_ELBOW\n",
    "experiment_names = [\"semi_sup_gaussian_mah_k10\",\n",
    "                    \"semi_sup_gaussian_mah_k8\",\n",
    "                    \"semi_sup_gaussian_mah_k5\",\n",
    "                    \"semi_supervised_classification_gaussian\",\n",
    "                    \"semi_supervised_classification\"]\n",
    "confidence_decay_factors =[10, 8, 5, 5, 5]\n",
    "run_ids = [45, 45, 45, 45, 45, 45]\n",
    "for experiment_name, confidence_decay_factor in zip(experiment_names, confidence_decay_factors):\n",
    "  exp_config = ExperimentConfig(root_path=root_path,\n",
    "                                num_decoder_layer=4,\n",
    "                                z_dim=z_dim,\n",
    "                                num_units=num_units,\n",
    "                                num_cluster_config=num_cluster_config,\n",
    "                                confidence_decay_factor=confidence_decay_factor,\n",
    "                                beta=5,\n",
    "                                supervise_weight=150,\n",
    "                                dataset_name=\"mnist\",\n",
    "                                split_name=\"Split_1\",\n",
    "                                model_name=\"VAE\",\n",
    "                                batch_size=64,\n",
    "                                eval_interval_in_epochs=1,\n",
    "                                name=experiment_name,\n",
    "                                num_val_samples=128,\n",
    "                                total_training_samples=60000,\n",
    "                                manual_labels_config=ExperimentConfig.USE_CLUSTER_CENTER,\n",
    "                                reconstruction_weight=1,\n",
    "                                activation_hidden_layer=\"RELU\",\n",
    "                                activation_output_layer=\"SIGMOID\")\n",
    "  exp_config.check_and_create_directories(run_id)\n",
    "  config_dict[experiment_name] = exp_config\n",
    "\n",
    "dao = get_dao(exp_config.dataset_name, exp_config.split_name, exp_config.num_val_samples)"
   ]
  },
  {
   "cell_type": "code",
   "execution_count": 9,
   "metadata": {
    "colab": {
     "base_uri": "https://localhost:8080/"
    },
    "id": "PtUEcgiBQ0-J",
    "outputId": "40414cd0-8ce2-4d7f-cca0-44c5fefa8483"
   },
   "outputs": [
    {
     "name": "stdout",
     "output_type": "stream",
     "text": [
      "Warning /content/gdrive/MyDrive/concept_learning/concept_learning/concept_learning_exp/semi_supervised_classification/Exp_32_128_64_10_ELBOW_45/analysis/manual_annotation_epoch_-1.0.csv path does not exist. Creating random prior with uniform distribution\n",
      "Number of samples with manual annotation 0.0\n"
     ]
    }
   ],
   "source": [
    "train_val_data_iterator = get_train_val_iterator(create_split=create_split,\n",
    "                                                 dao= dao,\n",
    "                                                 exp_config= exp_config,\n",
    "                                                 num_epochs_completed=0,\n",
    "                                                 split_name=exp_config.split_name)"
   ]
  },
  {
   "cell_type": "code",
   "execution_count": 10,
   "metadata": {
    "id": "I0h51WLBTQND"
   },
   "outputs": [],
   "source": [
    "test_data_location = exp_config.DATASET_ROOT_PATH + \"/test/\"\n",
    "test_data_iterator = DataIterator(dataset_path=exp_config.DATASET_ROOT_PATH,\n",
    "                                  batch_size=exp_config.BATCH_SIZE,\n",
    "                                  dao=dao)"
   ]
  },
  {
   "cell_type": "code",
   "execution_count": 11,
   "metadata": {
    "id": "5tBAP-UKZ4dN"
   },
   "outputs": [],
   "source": [
    "val_accuracies = dict()\n",
    "test_accuracies = dict()\n",
    "train_accuracies = dict()\n"
   ]
  },
  {
   "cell_type": "code",
   "execution_count": 12,
   "metadata": {
    "id": "IRnMTvfITZYE"
   },
   "outputs": [],
   "source": [
    "test_images, test_labels, _ = load_images(exp_config,\n",
    "                                          test_data_iterator,\n",
    "                                          \"test\"\n",
    "                                          )\n",
    "unique_labels = test_data_iterator.get_unique_labels()\n",
    "num_batches = test_images.shape[0] / exp_config.BATCH_SIZE\n",
    "test_labels= np.argwhere(test_labels == 1)[:,1]"
   ]
  },
  {
   "cell_type": "code",
   "execution_count": 13,
   "metadata": {
    "colab": {
     "base_uri": "https://localhost:8080/"
    },
    "id": "nKcsRaoLTopc",
    "outputId": "ac2280bf-8a42-4b44-aca2-d736ea0525c2"
   },
   "outputs": [
    {
     "name": "stdout",
     "output_type": "stream",
     "text": [
      "WARNING:tensorflow:From /content/gdrive/My Drive/concept_learning/concept_learning/clearn/models/vae.py:49: The name tf.placeholder is deprecated. Please use tf.compat.v1.placeholder instead.\n",
      "\n",
      "WARNING:tensorflow:From /content/gdrive/My Drive/concept_learning/concept_learning/clearn/models/architectures/custom/tensorflow_graphs.py:11: The name tf.variable_scope is deprecated. Please use tf.compat.v1.variable_scope instead.\n",
      "\n",
      "WARNING:tensorflow:From /content/gdrive/My Drive/concept_learning/concept_learning/clearn/utils/tensorflow_wrappers/layers.py:38: The name tf.get_variable is deprecated. Please use tf.compat.v1.get_variable instead.\n",
      "\n",
      "WARNING:tensorflow:From /content/gdrive/My Drive/concept_learning/concept_learning/clearn/models/vae.py:98: The name tf.random_normal is deprecated. Please use tf.random.normal instead.\n",
      "\n",
      "WARNING:tensorflow:From /content/gdrive/My Drive/concept_learning/concept_learning/clearn/models/vae.py:106: The name tf.log is deprecated. Please use tf.math.log instead.\n",
      "\n",
      "WARNING:tensorflow:From /content/gdrive/My Drive/concept_learning/concept_learning/clearn/models/classify/semi_supervised_mnist.py:128: The name tf.losses.softmax_cross_entropy is deprecated. Please use tf.compat.v1.losses.softmax_cross_entropy instead.\n",
      "\n",
      "WARNING:tensorflow:From /tensorflow-1.15.2/python3.7/tensorflow_core/python/ops/losses/losses_impl.py:121: where (from tensorflow.python.ops.array_ops) is deprecated and will be removed in a future version.\n",
      "Instructions for updating:\n",
      "Use tf.where in 2.0, which has the same broadcast rule as np.where\n",
      "WARNING:tensorflow:From /content/gdrive/My Drive/concept_learning/concept_learning/clearn/models/classify/semi_supervised_mnist.py:140: The name tf.trainable_variables is deprecated. Please use tf.compat.v1.trainable_variables instead.\n",
      "\n",
      "WARNING:tensorflow:From /content/gdrive/My Drive/concept_learning/concept_learning/clearn/models/classify/semi_supervised_mnist.py:141: The name tf.get_collection is deprecated. Please use tf.compat.v1.get_collection instead.\n",
      "\n",
      "WARNING:tensorflow:From /content/gdrive/My Drive/concept_learning/concept_learning/clearn/models/classify/semi_supervised_mnist.py:141: The name tf.GraphKeys is deprecated. Please use tf.compat.v1.GraphKeys instead.\n",
      "\n",
      "WARNING:tensorflow:From /content/gdrive/My Drive/concept_learning/concept_learning/clearn/models/classify/semi_supervised_mnist.py:142: The name tf.train.AdamOptimizer is deprecated. Please use tf.compat.v1.train.AdamOptimizer instead.\n",
      "\n",
      "WARNING:tensorflow:From /content/gdrive/My Drive/concept_learning/concept_learning/clearn/models/classify/semi_supervised_mnist.py:150: The name tf.summary.scalar is deprecated. Please use tf.compat.v1.summary.scalar instead.\n",
      "\n",
      "INFO:tensorflow:Summary name Negative Log Likelihood is illegal; using Negative_Log_Likelihood instead.\n",
      "INFO:tensorflow:Summary name K L Divergence is illegal; using K_L_Divergence instead.\n",
      "INFO:tensorflow:Summary name Supervised Loss is illegal; using Supervised_Loss instead.\n",
      "INFO:tensorflow:Summary name Total Loss is illegal; using Total_Loss instead.\n",
      "WARNING:tensorflow:From /content/gdrive/My Drive/concept_learning/concept_learning/clearn/models/classify/semi_supervised_mnist.py:156: The name tf.summary.merge_all is deprecated. Please use tf.compat.v1.summary.merge_all instead.\n",
      "\n",
      "WARNING:tensorflow:From /content/gdrive/My Drive/concept_learning/concept_learning/clearn/models/vae.py:54: The name tf.global_variables_initializer is deprecated. Please use tf.compat.v1.global_variables_initializer instead.\n",
      "\n",
      "WARNING:tensorflow:From /content/gdrive/My Drive/concept_learning/concept_learning/clearn/models/model.py:33: The name tf.train.Saver is deprecated. Please use tf.compat.v1.train.Saver instead.\n",
      "\n",
      "WARNING:tensorflow:From /content/gdrive/My Drive/concept_learning/concept_learning/clearn/models/model.py:35: The name tf.summary.FileWriter is deprecated. Please use tf.compat.v1.summary.FileWriter instead.\n",
      "\n",
      " [*] Reading checkpoints...\n",
      "num_training_samples 935\n",
      "ckpt_name SemiSupervisedClassifierMnist.model-936\n",
      "INFO:tensorflow:Restoring parameters from /content/gdrive/MyDrive/concept_learning/concept_learning/concept_learning_exp/semi_sup_gaussian_mah_k10/Exp_32_128_64_10_ELBOW_45/trained_models/SemiSupervisedClassifierMnist.model-936\n",
      " [*] Success to read SemiSupervisedClassifierMnist.model-936\n",
      " [*] Load SUCCESS\n",
      "Number of steps completed=936\n",
      "Number of epochs completed 1.0\n",
      "(9984, 10)\n",
      "(64, 10)\n",
      "(64, 10)\n",
      "(9984, 10)\n",
      "(9984,)\n",
      "0.09274839743589744\n",
      "INFO:tensorflow:Summary name Negative Log Likelihood is illegal; using Negative_Log_Likelihood instead.\n",
      "INFO:tensorflow:Summary name K L Divergence is illegal; using K_L_Divergence instead.\n",
      "INFO:tensorflow:Summary name Supervised Loss is illegal; using Supervised_Loss instead.\n",
      "INFO:tensorflow:Summary name Total Loss is illegal; using Total_Loss instead.\n",
      " [*] Reading checkpoints...\n",
      "num_training_samples 935\n",
      "ckpt_name SemiSupervisedClassifierMnist.model-1870\n",
      "INFO:tensorflow:Restoring parameters from /content/gdrive/MyDrive/concept_learning/concept_learning/concept_learning_exp/semi_sup_gaussian_mah_k10/Exp_32_128_64_10_ELBOW_45/trained_models/SemiSupervisedClassifierMnist.model-1870\n",
      " [*] Success to read SemiSupervisedClassifierMnist.model-1870\n",
      " [*] Load SUCCESS\n",
      "Number of steps completed=1870\n",
      "Number of epochs completed 2.0\n",
      "(9984, 10)\n",
      "(64, 10)\n",
      "(64, 10)\n",
      "(9984, 10)\n",
      "(9984,)\n",
      "0.785957532051282\n",
      "INFO:tensorflow:Summary name Negative Log Likelihood is illegal; using Negative_Log_Likelihood instead.\n",
      "INFO:tensorflow:Summary name K L Divergence is illegal; using K_L_Divergence instead.\n",
      "INFO:tensorflow:Summary name Supervised Loss is illegal; using Supervised_Loss instead.\n",
      "INFO:tensorflow:Summary name Total Loss is illegal; using Total_Loss instead.\n",
      " [*] Reading checkpoints...\n",
      "num_training_samples 935\n",
      "ckpt_name SemiSupervisedClassifierMnist.model-2805\n",
      "INFO:tensorflow:Restoring parameters from /content/gdrive/MyDrive/concept_learning/concept_learning/concept_learning_exp/semi_sup_gaussian_mah_k10/Exp_32_128_64_10_ELBOW_45/trained_models/SemiSupervisedClassifierMnist.model-2805\n",
      " [*] Success to read SemiSupervisedClassifierMnist.model-2805\n",
      " [*] Load SUCCESS\n",
      "Number of steps completed=2805\n",
      "Number of epochs completed 3.0\n",
      "(9984, 10)\n",
      "(64, 10)\n",
      "(64, 10)\n",
      "(9984, 10)\n",
      "(9984,)\n",
      "0.8456530448717948\n",
      "INFO:tensorflow:Summary name Negative Log Likelihood is illegal; using Negative_Log_Likelihood instead.\n",
      "INFO:tensorflow:Summary name K L Divergence is illegal; using K_L_Divergence instead.\n",
      "INFO:tensorflow:Summary name Supervised Loss is illegal; using Supervised_Loss instead.\n",
      "INFO:tensorflow:Summary name Total Loss is illegal; using Total_Loss instead.\n",
      " [*] Reading checkpoints...\n",
      "num_training_samples 935\n",
      "ckpt_name SemiSupervisedClassifierMnist.model-3740\n",
      "INFO:tensorflow:Restoring parameters from /content/gdrive/MyDrive/concept_learning/concept_learning/concept_learning_exp/semi_sup_gaussian_mah_k10/Exp_32_128_64_10_ELBOW_45/trained_models/SemiSupervisedClassifierMnist.model-3740\n",
      " [*] Success to read SemiSupervisedClassifierMnist.model-3740\n",
      " [*] Load SUCCESS\n",
      "Number of steps completed=3740\n",
      "Number of epochs completed 4.0\n",
      "(9984, 10)\n",
      "(64, 10)\n",
      "(64, 10)\n",
      "(9984, 10)\n",
      "(9984,)\n",
      "0.8658854166666666\n",
      "INFO:tensorflow:Summary name Negative Log Likelihood is illegal; using Negative_Log_Likelihood instead.\n",
      "INFO:tensorflow:Summary name K L Divergence is illegal; using K_L_Divergence instead.\n",
      "INFO:tensorflow:Summary name Supervised Loss is illegal; using Supervised_Loss instead.\n",
      "INFO:tensorflow:Summary name Total Loss is illegal; using Total_Loss instead.\n",
      " [*] Reading checkpoints...\n",
      "num_training_samples 935\n",
      "ckpt_name SemiSupervisedClassifierMnist.model-936\n",
      "INFO:tensorflow:Restoring parameters from /content/gdrive/MyDrive/concept_learning/concept_learning/concept_learning_exp/semi_sup_gaussian_mah_k8/Exp_32_128_64_10_ELBOW_45/trained_models/SemiSupervisedClassifierMnist.model-936\n",
      " [*] Success to read SemiSupervisedClassifierMnist.model-936\n",
      " [*] Load SUCCESS\n",
      "Number of steps completed=936\n",
      "Number of epochs completed 1.0\n",
      "(9984, 10)\n",
      "(64, 10)\n",
      "(64, 10)\n",
      "(9984, 10)\n",
      "(9984,)\n",
      "0.07732371794871795\n",
      "INFO:tensorflow:Summary name Negative Log Likelihood is illegal; using Negative_Log_Likelihood instead.\n",
      "INFO:tensorflow:Summary name K L Divergence is illegal; using K_L_Divergence instead.\n",
      "INFO:tensorflow:Summary name Supervised Loss is illegal; using Supervised_Loss instead.\n",
      "INFO:tensorflow:Summary name Total Loss is illegal; using Total_Loss instead.\n",
      " [*] Reading checkpoints...\n",
      "num_training_samples 935\n",
      "ckpt_name SemiSupervisedClassifierMnist.model-1870\n",
      "INFO:tensorflow:Restoring parameters from /content/gdrive/MyDrive/concept_learning/concept_learning/concept_learning_exp/semi_sup_gaussian_mah_k8/Exp_32_128_64_10_ELBOW_45/trained_models/SemiSupervisedClassifierMnist.model-1870\n",
      " [*] Success to read SemiSupervisedClassifierMnist.model-1870\n",
      " [*] Load SUCCESS\n",
      "Number of steps completed=1870\n",
      "Number of epochs completed 2.0\n",
      "(9984, 10)\n",
      "(64, 10)\n",
      "(64, 10)\n",
      "(9984, 10)\n",
      "(9984,)\n",
      "0.82421875\n",
      "INFO:tensorflow:Summary name Negative Log Likelihood is illegal; using Negative_Log_Likelihood instead.\n",
      "INFO:tensorflow:Summary name K L Divergence is illegal; using K_L_Divergence instead.\n",
      "INFO:tensorflow:Summary name Supervised Loss is illegal; using Supervised_Loss instead.\n",
      "INFO:tensorflow:Summary name Total Loss is illegal; using Total_Loss instead.\n",
      " [*] Reading checkpoints...\n",
      "num_training_samples 935\n",
      "ckpt_name SemiSupervisedClassifierMnist.model-2805\n",
      "INFO:tensorflow:Restoring parameters from /content/gdrive/MyDrive/concept_learning/concept_learning/concept_learning_exp/semi_sup_gaussian_mah_k8/Exp_32_128_64_10_ELBOW_45/trained_models/SemiSupervisedClassifierMnist.model-2805\n",
      " [*] Success to read SemiSupervisedClassifierMnist.model-2805\n",
      " [*] Load SUCCESS\n",
      "Number of steps completed=2805\n",
      "Number of epochs completed 3.0\n",
      "(9984, 10)\n",
      "(64, 10)\n",
      "(64, 10)\n",
      "(9984, 10)\n",
      "(9984,)\n",
      "0.8308293269230769\n",
      "INFO:tensorflow:Summary name Negative Log Likelihood is illegal; using Negative_Log_Likelihood instead.\n",
      "INFO:tensorflow:Summary name K L Divergence is illegal; using K_L_Divergence instead.\n",
      "INFO:tensorflow:Summary name Supervised Loss is illegal; using Supervised_Loss instead.\n",
      "INFO:tensorflow:Summary name Total Loss is illegal; using Total_Loss instead.\n",
      " [*] Reading checkpoints...\n",
      "num_training_samples 935\n",
      "ckpt_name SemiSupervisedClassifierMnist.model-3740\n",
      "INFO:tensorflow:Restoring parameters from /content/gdrive/MyDrive/concept_learning/concept_learning/concept_learning_exp/semi_sup_gaussian_mah_k8/Exp_32_128_64_10_ELBOW_45/trained_models/SemiSupervisedClassifierMnist.model-3740\n",
      " [*] Success to read SemiSupervisedClassifierMnist.model-3740\n",
      " [*] Load SUCCESS\n",
      "Number of steps completed=3740\n",
      "Number of epochs completed 4.0\n",
      "(9984, 10)\n",
      "(64, 10)\n",
      "(64, 10)\n",
      "(9984, 10)\n",
      "(9984,)\n",
      "0.8121995192307693\n",
      "INFO:tensorflow:Summary name Negative Log Likelihood is illegal; using Negative_Log_Likelihood instead.\n",
      "INFO:tensorflow:Summary name K L Divergence is illegal; using K_L_Divergence instead.\n",
      "INFO:tensorflow:Summary name Supervised Loss is illegal; using Supervised_Loss instead.\n",
      "INFO:tensorflow:Summary name Total Loss is illegal; using Total_Loss instead.\n",
      " [*] Reading checkpoints...\n",
      "num_training_samples 935\n",
      "ckpt_name SemiSupervisedClassifierMnist.model-936\n",
      "INFO:tensorflow:Restoring parameters from /content/gdrive/MyDrive/concept_learning/concept_learning/concept_learning_exp/semi_sup_gaussian_mah_k5/Exp_32_128_64_10_ELBOW_45/trained_models/SemiSupervisedClassifierMnist.model-936\n",
      " [*] Success to read SemiSupervisedClassifierMnist.model-936\n",
      " [*] Load SUCCESS\n",
      "Number of steps completed=936\n",
      "Number of epochs completed 1.0\n",
      "(9984, 10)\n",
      "(64, 10)\n",
      "(64, 10)\n",
      "(9984, 10)\n",
      "(9984,)\n",
      "0.10627003205128205\n",
      "INFO:tensorflow:Summary name Negative Log Likelihood is illegal; using Negative_Log_Likelihood instead.\n",
      "INFO:tensorflow:Summary name K L Divergence is illegal; using K_L_Divergence instead.\n",
      "INFO:tensorflow:Summary name Supervised Loss is illegal; using Supervised_Loss instead.\n",
      "INFO:tensorflow:Summary name Total Loss is illegal; using Total_Loss instead.\n",
      " [*] Reading checkpoints...\n",
      "num_training_samples 935\n",
      "ckpt_name SemiSupervisedClassifierMnist.model-1870\n",
      "INFO:tensorflow:Restoring parameters from /content/gdrive/MyDrive/concept_learning/concept_learning/concept_learning_exp/semi_sup_gaussian_mah_k5/Exp_32_128_64_10_ELBOW_45/trained_models/SemiSupervisedClassifierMnist.model-1870\n",
      " [*] Success to read SemiSupervisedClassifierMnist.model-1870\n",
      " [*] Load SUCCESS\n",
      "Number of steps completed=1870\n",
      "Number of epochs completed 2.0\n",
      "(9984, 10)\n",
      "(64, 10)\n",
      "(64, 10)\n",
      "(9984, 10)\n",
      "(9984,)\n",
      "0.6902043269230769\n",
      "INFO:tensorflow:Summary name Negative Log Likelihood is illegal; using Negative_Log_Likelihood instead.\n",
      "INFO:tensorflow:Summary name K L Divergence is illegal; using K_L_Divergence instead.\n",
      "INFO:tensorflow:Summary name Supervised Loss is illegal; using Supervised_Loss instead.\n",
      "INFO:tensorflow:Summary name Total Loss is illegal; using Total_Loss instead.\n",
      " [*] Reading checkpoints...\n",
      "num_training_samples 935\n",
      "ckpt_name SemiSupervisedClassifierMnist.model-2805\n",
      "INFO:tensorflow:Restoring parameters from /content/gdrive/MyDrive/concept_learning/concept_learning/concept_learning_exp/semi_sup_gaussian_mah_k5/Exp_32_128_64_10_ELBOW_45/trained_models/SemiSupervisedClassifierMnist.model-2805\n",
      " [*] Success to read SemiSupervisedClassifierMnist.model-2805\n",
      " [*] Load SUCCESS\n",
      "Number of steps completed=2805\n",
      "Number of epochs completed 3.0\n",
      "(9984, 10)\n",
      "(64, 10)\n",
      "(64, 10)\n",
      "(9984, 10)\n",
      "(9984,)\n",
      "0.7782451923076923\n",
      "INFO:tensorflow:Summary name Negative Log Likelihood is illegal; using Negative_Log_Likelihood instead.\n",
      "INFO:tensorflow:Summary name K L Divergence is illegal; using K_L_Divergence instead.\n",
      "INFO:tensorflow:Summary name Supervised Loss is illegal; using Supervised_Loss instead.\n",
      "INFO:tensorflow:Summary name Total Loss is illegal; using Total_Loss instead.\n",
      " [*] Reading checkpoints...\n",
      "num_training_samples 935\n",
      "ckpt_name SemiSupervisedClassifierMnist.model-3740\n",
      "INFO:tensorflow:Restoring parameters from /content/gdrive/MyDrive/concept_learning/concept_learning/concept_learning_exp/semi_sup_gaussian_mah_k5/Exp_32_128_64_10_ELBOW_45/trained_models/SemiSupervisedClassifierMnist.model-3740\n",
      " [*] Success to read SemiSupervisedClassifierMnist.model-3740\n",
      " [*] Load SUCCESS\n",
      "Number of steps completed=3740\n",
      "Number of epochs completed 4.0\n",
      "(9984, 10)\n",
      "(64, 10)\n",
      "(64, 10)\n",
      "(9984, 10)\n",
      "(9984,)\n",
      "0.7816506410256411\n",
      "INFO:tensorflow:Summary name Negative Log Likelihood is illegal; using Negative_Log_Likelihood instead.\n",
      "INFO:tensorflow:Summary name K L Divergence is illegal; using K_L_Divergence instead.\n",
      "INFO:tensorflow:Summary name Supervised Loss is illegal; using Supervised_Loss instead.\n",
      "INFO:tensorflow:Summary name Total Loss is illegal; using Total_Loss instead.\n",
      " [*] Reading checkpoints...\n",
      "num_training_samples 935\n",
      "ckpt_name SemiSupervisedClassifierMnist.model-936\n",
      "INFO:tensorflow:Restoring parameters from /content/gdrive/MyDrive/concept_learning/concept_learning/concept_learning_exp/semi_supervised_classification_gaussian/Exp_32_128_64_10_ELBOW_45/trained_models/SemiSupervisedClassifierMnist.model-936\n",
      " [*] Success to read SemiSupervisedClassifierMnist.model-936\n",
      " [*] Load SUCCESS\n",
      "Number of steps completed=936\n",
      "Number of epochs completed 1.0\n",
      "(9984, 10)\n",
      "(64, 10)\n",
      "(64, 10)\n",
      "(9984, 10)\n",
      "(9984,)\n",
      "0.10536858974358974\n",
      "INFO:tensorflow:Summary name Negative Log Likelihood is illegal; using Negative_Log_Likelihood instead.\n",
      "INFO:tensorflow:Summary name K L Divergence is illegal; using K_L_Divergence instead.\n",
      "INFO:tensorflow:Summary name Supervised Loss is illegal; using Supervised_Loss instead.\n",
      "INFO:tensorflow:Summary name Total Loss is illegal; using Total_Loss instead.\n",
      " [*] Reading checkpoints...\n",
      "num_training_samples 935\n",
      "ckpt_name SemiSupervisedClassifierMnist.model-1870\n",
      "INFO:tensorflow:Restoring parameters from /content/gdrive/MyDrive/concept_learning/concept_learning/concept_learning_exp/semi_supervised_classification_gaussian/Exp_32_128_64_10_ELBOW_45/trained_models/SemiSupervisedClassifierMnist.model-1870\n",
      " [*] Success to read SemiSupervisedClassifierMnist.model-1870\n",
      " [*] Load SUCCESS\n",
      "Number of steps completed=1870\n",
      "Number of epochs completed 2.0\n",
      "(9984, 10)\n",
      "(64, 10)\n",
      "(64, 10)\n",
      "(9984, 10)\n",
      "(9984,)\n",
      "0.7256610576923077\n",
      "INFO:tensorflow:Summary name Negative Log Likelihood is illegal; using Negative_Log_Likelihood instead.\n",
      "INFO:tensorflow:Summary name K L Divergence is illegal; using K_L_Divergence instead.\n",
      "INFO:tensorflow:Summary name Supervised Loss is illegal; using Supervised_Loss instead.\n",
      "INFO:tensorflow:Summary name Total Loss is illegal; using Total_Loss instead.\n",
      " [*] Reading checkpoints...\n",
      "num_training_samples 935\n",
      "ckpt_name SemiSupervisedClassifierMnist.model-2805\n",
      "INFO:tensorflow:Restoring parameters from /content/gdrive/MyDrive/concept_learning/concept_learning/concept_learning_exp/semi_supervised_classification_gaussian/Exp_32_128_64_10_ELBOW_45/trained_models/SemiSupervisedClassifierMnist.model-2805\n",
      " [*] Success to read SemiSupervisedClassifierMnist.model-2805\n",
      " [*] Load SUCCESS\n",
      "Number of steps completed=2805\n",
      "Number of epochs completed 3.0\n",
      "(9984, 10)\n",
      "(64, 10)\n",
      "(64, 10)\n",
      "(9984, 10)\n",
      "(9984,)\n",
      "0.71875\n",
      "INFO:tensorflow:Summary name Negative Log Likelihood is illegal; using Negative_Log_Likelihood instead.\n",
      "INFO:tensorflow:Summary name K L Divergence is illegal; using K_L_Divergence instead.\n",
      "INFO:tensorflow:Summary name Supervised Loss is illegal; using Supervised_Loss instead.\n",
      "INFO:tensorflow:Summary name Total Loss is illegal; using Total_Loss instead.\n",
      " [*] Reading checkpoints...\n",
      "num_training_samples 935\n",
      "ckpt_name SemiSupervisedClassifierMnist.model-3740\n",
      "INFO:tensorflow:Restoring parameters from /content/gdrive/MyDrive/concept_learning/concept_learning/concept_learning_exp/semi_supervised_classification_gaussian/Exp_32_128_64_10_ELBOW_45/trained_models/SemiSupervisedClassifierMnist.model-3740\n",
      " [*] Success to read SemiSupervisedClassifierMnist.model-3740\n",
      " [*] Load SUCCESS\n",
      "Number of steps completed=3740\n",
      "Number of epochs completed 4.0\n",
      "(9984, 10)\n",
      "(64, 10)\n",
      "(64, 10)\n",
      "(9984, 10)\n",
      "(9984,)\n",
      "0.7306690705128205\n",
      "INFO:tensorflow:Summary name Negative Log Likelihood is illegal; using Negative_Log_Likelihood instead.\n",
      "INFO:tensorflow:Summary name K L Divergence is illegal; using K_L_Divergence instead.\n",
      "INFO:tensorflow:Summary name Supervised Loss is illegal; using Supervised_Loss instead.\n",
      "INFO:tensorflow:Summary name Total Loss is illegal; using Total_Loss instead.\n",
      " [*] Reading checkpoints...\n",
      "num_training_samples 935\n",
      "ckpt_name SemiSupervisedClassifierMnist.model-936\n",
      "INFO:tensorflow:Restoring parameters from /content/gdrive/MyDrive/concept_learning/concept_learning/concept_learning_exp/semi_supervised_classification/Exp_32_128_64_10_ELBOW_45/trained_models/SemiSupervisedClassifierMnist.model-936\n",
      " [*] Success to read SemiSupervisedClassifierMnist.model-936\n",
      " [*] Load SUCCESS\n",
      "Number of steps completed=936\n",
      "Number of epochs completed 1.0\n",
      "(9984, 10)\n",
      "(64, 10)\n",
      "(64, 10)\n",
      "(9984, 10)\n",
      "(9984,)\n",
      "0.11328125\n",
      "INFO:tensorflow:Summary name Negative Log Likelihood is illegal; using Negative_Log_Likelihood instead.\n",
      "INFO:tensorflow:Summary name K L Divergence is illegal; using K_L_Divergence instead.\n",
      "INFO:tensorflow:Summary name Supervised Loss is illegal; using Supervised_Loss instead.\n",
      "INFO:tensorflow:Summary name Total Loss is illegal; using Total_Loss instead.\n",
      " [*] Reading checkpoints...\n",
      "num_training_samples 935\n",
      "ckpt_name SemiSupervisedClassifierMnist.model-1870\n",
      "INFO:tensorflow:Restoring parameters from /content/gdrive/MyDrive/concept_learning/concept_learning/concept_learning_exp/semi_supervised_classification/Exp_32_128_64_10_ELBOW_45/trained_models/SemiSupervisedClassifierMnist.model-1870\n",
      " [*] Success to read SemiSupervisedClassifierMnist.model-1870\n",
      " [*] Load SUCCESS\n",
      "Number of steps completed=1870\n",
      "Number of epochs completed 2.0\n",
      "(9984, 10)\n",
      "(64, 10)\n",
      "(64, 10)\n",
      "(9984, 10)\n",
      "(9984,)\n",
      "0.6270032051282052\n",
      "INFO:tensorflow:Summary name Negative Log Likelihood is illegal; using Negative_Log_Likelihood instead.\n",
      "INFO:tensorflow:Summary name K L Divergence is illegal; using K_L_Divergence instead.\n",
      "INFO:tensorflow:Summary name Supervised Loss is illegal; using Supervised_Loss instead.\n",
      "INFO:tensorflow:Summary name Total Loss is illegal; using Total_Loss instead.\n",
      " [*] Reading checkpoints...\n",
      "num_training_samples 935\n",
      "ckpt_name SemiSupervisedClassifierMnist.model-2805\n",
      "INFO:tensorflow:Restoring parameters from /content/gdrive/MyDrive/concept_learning/concept_learning/concept_learning_exp/semi_supervised_classification/Exp_32_128_64_10_ELBOW_45/trained_models/SemiSupervisedClassifierMnist.model-2805\n",
      " [*] Success to read SemiSupervisedClassifierMnist.model-2805\n",
      " [*] Load SUCCESS\n",
      "Number of steps completed=2805\n",
      "Number of epochs completed 3.0\n",
      "(9984, 10)\n",
      "(64, 10)\n",
      "(64, 10)\n",
      "(9984, 10)\n",
      "(9984,)\n",
      "0.7111378205128205\n",
      "INFO:tensorflow:Summary name Negative Log Likelihood is illegal; using Negative_Log_Likelihood instead.\n",
      "INFO:tensorflow:Summary name K L Divergence is illegal; using K_L_Divergence instead.\n",
      "INFO:tensorflow:Summary name Supervised Loss is illegal; using Supervised_Loss instead.\n",
      "INFO:tensorflow:Summary name Total Loss is illegal; using Total_Loss instead.\n",
      " [*] Reading checkpoints...\n",
      "num_training_samples 935\n",
      "ckpt_name SemiSupervisedClassifierMnist.model-3740\n",
      "INFO:tensorflow:Restoring parameters from /content/gdrive/MyDrive/concept_learning/concept_learning/concept_learning_exp/semi_supervised_classification/Exp_32_128_64_10_ELBOW_45/trained_models/SemiSupervisedClassifierMnist.model-3740\n",
      " [*] Success to read SemiSupervisedClassifierMnist.model-3740\n",
      " [*] Load SUCCESS\n",
      "Number of steps completed=3740\n",
      "Number of epochs completed 4.0\n",
      "(9984, 10)\n",
      "(64, 10)\n",
      "(64, 10)\n",
      "(9984, 10)\n",
      "(9984,)\n",
      "0.7406850961538461\n"
     ]
    }
   ],
   "source": [
    "for experiment_name, exp_config in config_dict.items():\n",
    "  tf.reset_default_graph()\n",
    "  accuracy_dict = dict()\n",
    "  for check_point_epochs in range(1, 5):\n",
    "      with tf.Session(config=tf.ConfigProto(allow_soft_placement=True)) as sess:\n",
    "          model = get_model(dao = dao,\n",
    "                            exp_config=exp_config,\n",
    "                            model_type=MODEL_TYPE_VAE_SEMI_SUPERVISED_MNIST,\n",
    "                            num_epochs=1,\n",
    "                            sess=sess,\n",
    "                            test_data_iterator=None,\n",
    "                            train_val_data_iterator=None,\n",
    "                            check_point_epochs=check_point_epochs\n",
    "                            )\n",
    "          num_steps_completed = model.counter\n",
    "          print(\"Number of steps completed={}\".format(num_steps_completed))\n",
    "          num_batches = exp_config.num_train_samples / exp_config.BATCH_SIZE\n",
    "          epochs_completed = num_steps_completed // num_batches\n",
    "          print(\"Number of epochs completed {}\".format(epochs_completed))\n",
    "          logits = classify_images(model, test_images, exp_config.BATCH_SIZE, exp_config.Z_DIM)\n",
    "\n",
    "      tf.reset_default_graph()\n",
    "\n",
    "      pred = softmax(logits)\n",
    "      print(pred.shape)\n",
    "      pred_labels = np.argmax(pred,axis=1)\n",
    "      print(pred_labels.shape)\n",
    "      _acc = accuracy_score(test_labels, pred_labels)\n",
    "      print(_acc)\n",
    "      accuracy_dict[check_point_epochs] = _acc\n",
    "  test_accuracies[experiment_name]= accuracy_dict\n",
    "    \n"
   ]
  },
  {
   "cell_type": "code",
   "execution_count": 18,
   "metadata": {
    "colab": {
     "base_uri": "https://localhost:8080/",
     "height": 629
    },
    "id": "FBc30JY4T0gJ",
    "outputId": "d52ec349-032a-4f80-9091-f155338eb7dc"
   },
   "outputs": [
    {
     "data": {
      "text/plain": [
       "<matplotlib.legend.Legend at 0x7f98fde03490>"
      ]
     },
     "execution_count": 18,
     "metadata": {
      "tags": []
     },
     "output_type": "execute_result"
    },
    {
     "data": {
      "image/png": "[encoded data removed]",
      "text/plain": [
       "<Figure size 1440x720 with 1 Axes>"
      ]
     },
     "metadata": {
      "needs_background": "light",
      "tags": []
     },
     "output_type": "display_data"
    }
   ],
   "source": [
    "import os\n",
    "\n",
    "plot_filename = \"classification_accuracy.pdf\"\n",
    "plt.figure(figsize=(20, 10))\n",
    "\n",
    "legends = [\"Mahalanobis\", \"Mahalanobis\", \"Mahalanobis\", \"Eucledean\", \"exponential_decay\"]\n",
    "for confidence_decay_factor, experiment_name, legend in zip(confidence_decay_factors, experiment_names, legends):\n",
    "  accuracy_dict = test_accuracies[experiment_name]\n",
    "  plt.plot(list(accuracy_dict.keys()), np.asarray(list(accuracy_dict.values())) * 100, lw=2, label=f\"{legend} k={confidence_decay_factor}\")\n",
    "\n",
    "axis_font = {'fontname':'Arial', 'size':'12'}\n",
    "\n",
    "plt.xlabel(\"Epochs\", **axis_font)\n",
    "plt.ylabel(\"Accuracy(%)\", **axis_font)\n",
    "\n",
    "plt.xlim(1,6)\n",
    "plt.xticks(ticks = [i for i in range(1,6,1)], labels = [i for i in range(1,6,1)], **axis_font)\n",
    "plt.ylim(0,100)\n",
    "plt.yticks(ticks=[i for i in range(0, 100, 20)], **axis_font)\n",
    "plt.legend()\n",
    "\n",
    "#plt.savefig(os.path.join(\"/Users/sunilv/gitprojects/concept_learning/docs/uai2021/\", plot_filename), bbox=\"tight\") \n",
    "\n",
    "    #plt.plot(list(accuracy_dict_unsupervised.keys()), list(accuracy_dict_unsupervised.values()))"
   ]
  },
  {
   "cell_type": "code",
   "execution_count": 15,
   "metadata": {
    "id": "Pda_vw_jT__3"
   },
   "outputs": [],
   "source": [
    "drive.flush_and_unmount()"
   ]
  },
  {
   "cell_type": "code",
   "execution_count": 51,
   "metadata": {
    "id": "z4CZ6xsespnI"
   },
   "outputs": [],
   "source": [
    "from google.colab import drive"
   ]
  },
  {
   "cell_type": "code",
   "execution_count": null,
   "metadata": {
    "id": "Osb0qeS5sxyC"
   },
   "outputs": [],
   "source": []
  }
 ],
 "metadata": {
  "colab": {
   "authorship_tag": "ABX9TyPpF2S9ZaK4Z2lmoUbjff2x",
   "collapsed_sections": [],
   "include_colab_link": true,
   "name": "classify.ipynb",
   "provenance": []
  },
  "kernelspec": {
   "display_name": "Python 3",
   "language": "python",
   "name": "python3"
  },
  "language_info": {
   "codemirror_mode": {
    "name": "ipython",
    "version": 3
   },
   "file_extension": ".py",
   "mimetype": "text/x-python",
   "name": "python",
   "nbconvert_exporter": "python",
   "pygments_lexer": "ipython3",
   "version": "3.7.9"
  }
 },
 "nbformat": 4,
 "nbformat_minor": 1
}
