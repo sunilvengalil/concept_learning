{
 "cells": [
  {
   "cell_type": "code",
   "execution_count": 1,
   "metadata": {},
   "outputs": [
    {
     "name": "stderr",
     "output_type": "stream",
     "text": [
      "/Library/Frameworks/Python.framework/Versions/3.7/lib/python3.7/site-packages/tensorflow/python/framework/dtypes.py:516: FutureWarning: Passing (type, 1) or '1type' as a synonym of type is deprecated; in a future version of numpy, it will be understood as (type, (1,)) / '(1,)type'.\n",
      "  _np_qint8 = np.dtype([(\"qint8\", np.int8, 1)])\n",
      "/Library/Frameworks/Python.framework/Versions/3.7/lib/python3.7/site-packages/tensorflow/python/framework/dtypes.py:517: FutureWarning: Passing (type, 1) or '1type' as a synonym of type is deprecated; in a future version of numpy, it will be understood as (type, (1,)) / '(1,)type'.\n",
      "  _np_quint8 = np.dtype([(\"quint8\", np.uint8, 1)])\n",
      "/Library/Frameworks/Python.framework/Versions/3.7/lib/python3.7/site-packages/tensorflow/python/framework/dtypes.py:518: FutureWarning: Passing (type, 1) or '1type' as a synonym of type is deprecated; in a future version of numpy, it will be understood as (type, (1,)) / '(1,)type'.\n",
      "  _np_qint16 = np.dtype([(\"qint16\", np.int16, 1)])\n",
      "/Library/Frameworks/Python.framework/Versions/3.7/lib/python3.7/site-packages/tensorflow/python/framework/dtypes.py:519: FutureWarning: Passing (type, 1) or '1type' as a synonym of type is deprecated; in a future version of numpy, it will be understood as (type, (1,)) / '(1,)type'.\n",
      "  _np_quint16 = np.dtype([(\"quint16\", np.uint16, 1)])\n",
      "/Library/Frameworks/Python.framework/Versions/3.7/lib/python3.7/site-packages/tensorflow/python/framework/dtypes.py:520: FutureWarning: Passing (type, 1) or '1type' as a synonym of type is deprecated; in a future version of numpy, it will be understood as (type, (1,)) / '(1,)type'.\n",
      "  _np_qint32 = np.dtype([(\"qint32\", np.int32, 1)])\n",
      "/Library/Frameworks/Python.framework/Versions/3.7/lib/python3.7/site-packages/tensorflow/python/framework/dtypes.py:525: FutureWarning: Passing (type, 1) or '1type' as a synonym of type is deprecated; in a future version of numpy, it will be understood as (type, (1,)) / '(1,)type'.\n",
      "  np_resource = np.dtype([(\"resource\", np.ubyte, 1)])\n",
      "/Library/Frameworks/Python.framework/Versions/3.7/lib/python3.7/site-packages/tensorboard/compat/tensorflow_stub/dtypes.py:541: FutureWarning: Passing (type, 1) or '1type' as a synonym of type is deprecated; in a future version of numpy, it will be understood as (type, (1,)) / '(1,)type'.\n",
      "  _np_qint8 = np.dtype([(\"qint8\", np.int8, 1)])\n",
      "/Library/Frameworks/Python.framework/Versions/3.7/lib/python3.7/site-packages/tensorboard/compat/tensorflow_stub/dtypes.py:542: FutureWarning: Passing (type, 1) or '1type' as a synonym of type is deprecated; in a future version of numpy, it will be understood as (type, (1,)) / '(1,)type'.\n",
      "  _np_quint8 = np.dtype([(\"quint8\", np.uint8, 1)])\n",
      "/Library/Frameworks/Python.framework/Versions/3.7/lib/python3.7/site-packages/tensorboard/compat/tensorflow_stub/dtypes.py:543: FutureWarning: Passing (type, 1) or '1type' as a synonym of type is deprecated; in a future version of numpy, it will be understood as (type, (1,)) / '(1,)type'.\n",
      "  _np_qint16 = np.dtype([(\"qint16\", np.int16, 1)])\n",
      "/Library/Frameworks/Python.framework/Versions/3.7/lib/python3.7/site-packages/tensorboard/compat/tensorflow_stub/dtypes.py:544: FutureWarning: Passing (type, 1) or '1type' as a synonym of type is deprecated; in a future version of numpy, it will be understood as (type, (1,)) / '(1,)type'.\n",
      "  _np_quint16 = np.dtype([(\"quint16\", np.uint16, 1)])\n",
      "/Library/Frameworks/Python.framework/Versions/3.7/lib/python3.7/site-packages/tensorboard/compat/tensorflow_stub/dtypes.py:545: FutureWarning: Passing (type, 1) or '1type' as a synonym of type is deprecated; in a future version of numpy, it will be understood as (type, (1,)) / '(1,)type'.\n",
      "  _np_qint32 = np.dtype([(\"qint32\", np.int32, 1)])\n",
      "/Library/Frameworks/Python.framework/Versions/3.7/lib/python3.7/site-packages/tensorboard/compat/tensorflow_stub/dtypes.py:550: FutureWarning: Passing (type, 1) or '1type' as a synonym of type is deprecated; in a future version of numpy, it will be understood as (type, (1,)) / '(1,)type'.\n",
      "  np_resource = np.dtype([(\"resource\", np.ubyte, 1)])\n"
     ]
    },
    {
     "name": "stdout",
     "output_type": "stream",
     "text": [
      "WARNING:tensorflow:From /Users/sunilv/gitprojects/concept_learning/clearn/models/classify/supervised_classifier.py:21: The name tf.Session is deprecated. Please use tf.compat.v1.Session instead.\n",
      "\n"
     ]
    }
   ],
   "source": [
    "#import os\n",
    "from typing import List, DefaultDict, Dict\n",
    "from collections import defaultdict\n",
    "import pandas as pd\n",
    "import numpy as np\n",
    "from  scipy.signal import correlate2d\n",
    "from mpl_toolkits.axes_grid1 import make_axes_locatable\n",
    "from sklearn.cluster import KMeans\n",
    "from sklearn.metrics import accuracy_score\n",
    "\n",
    "# import matplotlib\n",
    "from matplotlib import pyplot as plt\n",
    "from clearn.experiments.experiment import Experiment, load_trained_model, get_model, get_train_val_iterator, MODEL_TYPE_VAE_SEMI_SUPERVISED_MNIST\n",
    "from clearn.dao.dao_factory import get_dao\n",
    "\n",
    "import tensorflow as tf\n",
    "from clearn.analysis.cluster_utils import display_images\n",
    "from clearn.utils.data_loader import TrainValDataIterator, DataIterator\n",
    "from clearn.utils.data_loader import load_images\n",
    "from clearn.config.common_path import get_encoded_csv_file\n",
    "from clearn.models.classify.classifier import ClassifierModel\n",
    "from clearn.config import ExperimentConfig\n",
    "from matplotlib import pyplot  as  plt\n",
    "from scipy.special import softmax\n",
    "\n",
    "%matplotlib inline\n",
    "\n"
   ]
  },
  {
   "cell_type": "code",
   "execution_count": 2,
   "metadata": {},
   "outputs": [],
   "source": [
    "root_path = \"/Users/sunilv/concept_learning_exp/\"\n",
    "num_units=[64, 128, 32]\n",
    "create_split = False\n",
    "num_cluster_config=ExperimentConfig.NUM_CLUSTERS_CONFIG_ELBOW\n"
   ]
  },
  {
   "cell_type": "code",
   "execution_count": 3,
   "metadata": {},
   "outputs": [
    {
     "data": {
      "text/plain": [
       "True"
      ]
     },
     "execution_count": 3,
     "metadata": {},
     "output_type": "execute_result"
    }
   ],
   "source": [
    "exp_config = ExperimentConfig(root_path=root_path,\n",
    "                            num_decoder_layer=4,\n",
    "                            z_dim=10,\n",
    "                            num_units=num_units,\n",
    "                            num_cluster_config=num_cluster_config,\n",
    "                            confidence_decay_factor=5,\n",
    "                            beta=5,\n",
    "                            supervise_weight=150,\n",
    "                            dataset_name=\"mnist\",\n",
    "                            split_name=\"Split_1\",\n",
    "                            model_name=\"VAE\",\n",
    "                            batch_size=64,\n",
    "                            eval_interval_in_epochs=1,\n",
    "                            name=\"concept_learning_dictionaries\",\n",
    "                            num_val_samples=128,\n",
    "                            total_training_samples=60000,\n",
    "                            manual_labels_config=ExperimentConfig.USE_CLUSTER_CENTER,\n",
    "                            reconstruction_weight=1,\n",
    "                            activation_hidden_layer=\"RELU\",\n",
    "                            activation_output_layer=\"SIGMOID\")\n",
    "exp_config.check_and_create_directories(0)\n"
   ]
  },
  {
   "cell_type": "code",
   "execution_count": 4,
   "metadata": {},
   "outputs": [
    {
     "name": "stdout",
     "output_type": "stream",
     "text": [
      "Warning /Users/sunilv/concept_learning_exp/concept_learning_dictionaries/Exp_32_128_64_10_ELBOW_0/analysis/manual_annotation.csv path does not exist. Creating random prior with uniform distribution\n",
      "Total Manual annotation confidence 0.0\n"
     ]
    }
   ],
   "source": [
    "dao = get_dao(exp_config.dataset_name, exp_config.split_name, exp_config.num_val_samples)\n",
    "train_val_data_iterator = get_train_val_iterator(create_split=create_split,\n",
    "                                                 dao= dao,\n",
    "                                                 exp_config= exp_config,\n",
    "                                                 num_epochs_completed=0,\n",
    "                                                 split_name=exp_config.split_name)\n",
    "\n",
    "train_images, train_labels, _ = load_images(exp_config,\n",
    "                                          train_val_data_iterator,\n",
    "                                          \"train\"\n",
    "                                          )\n",
    "train_labels= np.argwhere(train_labels == 1)[:,1]"
   ]
  },
  {
   "cell_type": "code",
   "execution_count": 5,
   "metadata": {},
   "outputs": [],
   "source": [
    "train_images.shape\n",
    "concepts:Dict[int, Dict[str, np.ndarray]] = dict()\n",
    "height, width = train_images.shape[1], train_images.shape[2]"
   ]
  },
  {
   "cell_type": "code",
   "execution_count": 6,
   "metadata": {},
   "outputs": [],
   "source": [
    "def get_segment(location_key, v_extend, h_extend, concepts=None):\n",
    "    if concepts is None:\n",
    "        concepts:Dict[int, Dict[str, np.ndarray]] = dict()\n",
    "    if len(v_extend) == 0:\n",
    "        v_extend =[0, height]\n",
    "    if len(h_extend) == 0:\n",
    "        h_extend =[0, width]\n",
    "    for im_no in range(100):\n",
    "        c = np.zeros((28, 28))\n",
    "        c[v_extend[0]:v_extend[1], h_extend[0]:h_extend[1]] = np.squeeze(train_images[im_no,                                                                          v_extend[0]:v_extend[1],\n",
    "                                                                        h_extend[0]:h_extend[1]])\n",
    "        if train_labels[im_no] in concepts:\n",
    "            if location_key in concepts[train_labels[im_no]]:\n",
    "                concepts[train_labels[im_no]][location_key].append(c)\n",
    "            else:\n",
    "                concepts[train_labels[im_no]][location_key] = [c]\n",
    "        else:\n",
    "            concepts[train_labels[im_no]] = {location_key:[c]}"
   ]
  },
  {
   "cell_type": "code",
   "execution_count": 7,
   "metadata": {},
   "outputs": [
    {
     "name": "stdout",
     "output_type": "stream",
     "text": [
      "Number of images 9\n"
     ]
    },
    {
     "data": {
      "image/png": "[encoded data removed]",
      "text/plain": [
       "<Figure size 432x288 with 9 Axes>"
      ]
     },
     "metadata": {
      "needs_background": "light"
     },
     "output_type": "display_data"
    }
   ],
   "source": [
    "location_key = \"top\"\n",
    "get_segment(location_key, [5, 9], [], concepts)\n",
    "digit = 3\n",
    "display_images(np.asarray(concepts[digit][location_key]),\n",
    "               image_filename=None,\n",
    "               title=f\"{location_key} of {digit}\")"
   ]
  },
  {
   "cell_type": "code",
   "execution_count": 8,
   "metadata": {},
   "outputs": [],
   "source": [
    "location_key = \"right\"\n",
    "v_extend=[14,height]\n",
    "h_extend=[]\n",
    "get_segment(location_key, v_extend, h_extend, concepts)\n"
   ]
  },
  {
   "cell_type": "code",
   "execution_count": 9,
   "metadata": {},
   "outputs": [
    {
     "name": "stdout",
     "output_type": "stream",
     "text": [
      "Number of images 9\n"
     ]
    },
    {
     "data": {
      "image/png": "[encoded data removed]",
      "text/plain": [
       "<Figure size 432x288 with 9 Axes>"
      ]
     },
     "metadata": {
      "needs_background": "light"
     },
     "output_type": "display_data"
    }
   ],
   "source": [
    "digit = 7\n",
    "display_images(np.asarray(concepts[digit][location_key]),\n",
    "               image_filename=None,\n",
    "               title=f\"{location_key} of {digit}\")"
   ]
  },
  {
   "cell_type": "code",
   "execution_count": null,
   "metadata": {},
   "outputs": [],
   "source": [
    "print()\n",
    "first_name=\"sunil\"\n",
    "\n"
   ]
  },
  {
   "cell_type": "code",
   "execution_count": 11,
   "metadata": {},
   "outputs": [
    {
     "data": {
      "text/plain": [
       "4.0"
      ]
     },
     "execution_count": 11,
     "metadata": {},
     "output_type": "execute_result"
    }
   ],
   "source": [
    "from math import sqrt\n",
    "sqrt(16)"
   ]
  },
  {
   "cell_type": "code",
   "execution_count": 13,
   "metadata": {},
   "outputs": [],
   "source": [
    "def add(numbers):\n",
    "    result1 = 0\n",
    "    for number in numbers:\n",
    "        result1 = result1 + number\n",
    "        \n",
    "    return result1\n",
    "    "
   ]
  },
  {
   "cell_type": "code",
   "execution_count": null,
   "metadata": {},
   "outputs": [],
   "source": [
    "# A function is a reusable set of instruction (code) that is used to perform some task\n",
    "# A function has  a set of input variables called parameters. The value of parameres should be send while calling the function"
   ]
  },
  {
   "cell_type": "code",
   "execution_count": 14,
   "metadata": {},
   "outputs": [
    {
     "name": "stdout",
     "output_type": "stream",
     "text": [
      "[2, 3, 4, 5]\n",
      "14\n"
     ]
    }
   ],
   "source": [
    "a =[2,3,4,5]\n",
    "sum_a = add(a)\n",
    "print(a)\n",
    "print(sum_a)\n",
    "print(result1)"
   ]
  },
  {
   "cell_type": "code",
   "execution_count": null,
   "metadata": {},
   "outputs": [],
   "source": []
  }
 ],
 "metadata": {
  "kernelspec": {
   "display_name": "Python 3",
   "language": "python",
   "name": "python3"
  },
  "language_info": {
   "codemirror_mode": {
    "name": "ipython",
    "version": 3
   },
   "file_extension": ".py",
   "mimetype": "text/x-python",
   "name": "python",
   "nbconvert_exporter": "python",
   "pygments_lexer": "ipython3",
   "version": "3.7.9"
  }
 },
 "nbformat": 4,
 "nbformat_minor": 4
}
